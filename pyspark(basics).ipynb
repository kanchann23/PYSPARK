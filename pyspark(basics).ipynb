{
 "cells": [
  {
   "cell_type": "code",
   "execution_count": 2,
   "id": "10c084c5",
   "metadata": {},
   "outputs": [
    {
     "name": "stdout",
     "output_type": "stream",
     "text": [
      "Requirement already satisfied: pyspark in /home/user/anaconda3/lib/python3.10/site-packages (3.4.1)\r\n",
      "Requirement already satisfied: py4j==0.10.9.7 in /home/user/anaconda3/lib/python3.10/site-packages (from pyspark) (0.10.9.7)\r\n"
     ]
    }
   ],
   "source": [
    "!pip install pyspark\n",
    "#The command !pip install pyspark is used to install the PySpark package using pip,\n",
    "#which is the package manager for Python."
   ]
  },
  {
   "cell_type": "code",
   "execution_count": 3,
   "id": "4c389587",
   "metadata": {},
   "outputs": [],
   "source": [
    "import pyspark"
   ]
  },
  {
   "cell_type": "code",
   "execution_count": 20,
   "id": "6bbfca3d",
   "metadata": {},
   "outputs": [
    {
     "name": "stdout",
     "output_type": "stream",
     "text": [
      "Requirement already satisfied: findspark in /home/user/.local/lib/python3.10/site-packages (2.0.1)\r\n"
     ]
    }
   ],
   "source": [
    "!pip install findspark\n",
    "#pip is a package manager used for installing, managing, and uninstalling Python packages."
   ]
  },
  {
   "cell_type": "code",
   "execution_count": 6,
   "id": "00a09a09",
   "metadata": {},
   "outputs": [],
   "source": [
    "import findspark\n",
    "findspark.init() "
   ]
  },
  {
   "cell_type": "code",
   "execution_count": 7,
   "id": "bae51d69",
   "metadata": {},
   "outputs": [],
   "source": [
    "from pyspark.sql import SparkSession"
   ]
  },
  {
   "cell_type": "code",
   "execution_count": 8,
   "id": "e94e7c4c",
   "metadata": {},
   "outputs": [
    {
     "name": "stderr",
     "output_type": "stream",
     "text": [
      "23/07/17 16:37:57 WARN Utils: Your hostname, user-ThinkPad-E480 resolves to a loopback address: 127.0.1.1; using 10.22.22.227 instead (on interface wlp5s0)\n",
      "23/07/17 16:37:57 WARN Utils: Set SPARK_LOCAL_IP if you need to bind to another address\n",
      "Setting default log level to \"WARN\".\n",
      "To adjust logging level use sc.setLogLevel(newLevel). For SparkR, use setLogLevel(newLevel).\n",
      "23/07/17 16:37:58 WARN NativeCodeLoader: Unable to load native-hadoop library for your platform... using builtin-java classes where applicable\n",
      "23/07/17 16:37:59 WARN Utils: Service 'SparkUI' could not bind on port 4040. Attempting port 4041.\n",
      "23/07/17 16:37:59 WARN Utils: Service 'SparkUI' could not bind on port 4041. Attempting port 4042.\n",
      "23/07/17 16:37:59 WARN Utils: Service 'SparkUI' could not bind on port 4042. Attempting port 4043.\n"
     ]
    }
   ],
   "source": [
    "spark=SparkSession.builder.appName(\"PySparkExample\").getOrCreate()\n",
    "#The code you provided is creating a SparkSession object in PySpark.\n",
    "#SparkSession is the entry point to use Spark functionality in your Python code."
   ]
  },
  {
   "cell_type": "code",
   "execution_count": 9,
   "id": "927ab5ee",
   "metadata": {},
   "outputs": [
    {
     "data": {
      "text/html": [
       "\n",
       "            <div>\n",
       "                <p><b>SparkSession - in-memory</b></p>\n",
       "                \n",
       "        <div>\n",
       "            <p><b>SparkContext</b></p>\n",
       "\n",
       "            <p><a href=\"http://10.22.22.227:4043\">Spark UI</a></p>\n",
       "\n",
       "            <dl>\n",
       "              <dt>Version</dt>\n",
       "                <dd><code>v3.4.1</code></dd>\n",
       "              <dt>Master</dt>\n",
       "                <dd><code>local[*]</code></dd>\n",
       "              <dt>AppName</dt>\n",
       "                <dd><code>PySparkExample</code></dd>\n",
       "            </dl>\n",
       "        </div>\n",
       "        \n",
       "            </div>\n",
       "        "
      ],
      "text/plain": [
       "<pyspark.sql.session.SparkSession at 0x7f8f38e96bf0>"
      ]
     },
     "execution_count": 9,
     "metadata": {},
     "output_type": "execute_result"
    }
   ],
   "source": [
    "spark"
   ]
  },
  {
   "cell_type": "code",
   "execution_count": 10,
   "id": "a6ed502d",
   "metadata": {},
   "outputs": [],
   "source": [
    "df_pysp=spark.read.csv('/home/user/Downloads/pyspark/text.csv')\n",
    "#In PySpark, spark.read is a DataFrameReader object that is used to read data from various data sources and create a DataFrame. \n",
    "#The DataFrameReader provides several methods to read data, such as csv(), json(), parquet(), text(), avro(), and more."
   ]
  },
  {
   "cell_type": "code",
   "execution_count": 11,
   "id": "08e5aa48",
   "metadata": {},
   "outputs": [
    {
     "data": {
      "text/plain": [
       "DataFrame[_c0: string, _c1: string]"
      ]
     },
     "execution_count": 11,
     "metadata": {},
     "output_type": "execute_result"
    }
   ],
   "source": [
    "df_pysp\n",
    "# here it is taking c0 and c1 as uppermost row aand thus showing their type string"
   ]
  },
  {
   "cell_type": "code",
   "execution_count": 12,
   "id": "2935614c",
   "metadata": {},
   "outputs": [
    {
     "name": "stdout",
     "output_type": "stream",
     "text": [
      "+----+---+\n",
      "| _c0|_c1|\n",
      "+----+---+\n",
      "|name|age|\n",
      "|  hh| 23|\n",
      "|  gj| 56|\n",
      "+----+---+\n",
      "\n"
     ]
    }
   ],
   "source": [
    "df_pysp.show()\n",
    "#now we will make name and work as first row\n"
   ]
  },
  {
   "cell_type": "code",
   "execution_count": 13,
   "id": "3cd04233",
   "metadata": {},
   "outputs": [],
   "source": [
    "df_pysp=spark.read.option('header','true').csv('/home/user/Downloads/pyspark/text.csv',inferSchema = True)\n",
    "#inferSchema because without this by default it will read every column as string"
   ]
  },
  {
   "cell_type": "code",
   "execution_count": 14,
   "id": "b6f85e28",
   "metadata": {},
   "outputs": [
    {
     "name": "stdout",
     "output_type": "stream",
     "text": [
      "+----+---+\n",
      "|name|age|\n",
      "+----+---+\n",
      "|  hh| 23|\n",
      "|  gj| 56|\n",
      "+----+---+\n",
      "\n"
     ]
    }
   ],
   "source": [
    "df_pysp.show()"
   ]
  },
  {
   "cell_type": "code",
   "execution_count": 15,
   "id": "16b65c82",
   "metadata": {},
   "outputs": [
    {
     "data": {
      "text/plain": [
       "pyspark.sql.dataframe.DataFrame"
      ]
     },
     "execution_count": 15,
     "metadata": {},
     "output_type": "execute_result"
    }
   ],
   "source": [
    "type(df_pysp)"
   ]
  },
  {
   "cell_type": "code",
   "execution_count": 16,
   "id": "6b3641e1",
   "metadata": {},
   "outputs": [
    {
     "data": {
      "text/plain": [
       "[Row(name='hh', age=23), Row(name='gj', age=56)]"
      ]
     },
     "execution_count": 16,
     "metadata": {},
     "output_type": "execute_result"
    }
   ],
   "source": [
    "df_pysp.head(3)"
   ]
  },
  {
   "cell_type": "code",
   "execution_count": 17,
   "id": "ca90c4f8",
   "metadata": {},
   "outputs": [
    {
     "name": "stdout",
     "output_type": "stream",
     "text": [
      "root\n",
      " |-- name: string (nullable = true)\n",
      " |-- age: integer (nullable = true)\n",
      "\n"
     ]
    }
   ],
   "source": [
    "df_pysp.printSchema()\n",
    "#checking datatype of column"
   ]
  },
  {
   "cell_type": "code",
   "execution_count": 18,
   "id": "eb1ea34b",
   "metadata": {},
   "outputs": [],
   "source": [
    "df_pysp=spark.read.csv('/home/user/Downloads/pyspark/text.csv',header = True ,inferSchema=True)"
   ]
  },
  {
   "cell_type": "code",
   "execution_count": 19,
   "id": "92d1a95b",
   "metadata": {},
   "outputs": [
    {
     "name": "stdout",
     "output_type": "stream",
     "text": [
      "+----+---+\n",
      "|name|age|\n",
      "+----+---+\n",
      "|  hh| 23|\n",
      "|  gj| 56|\n",
      "+----+---+\n",
      "\n"
     ]
    }
   ],
   "source": [
    "df_pysp.show()"
   ]
  },
  {
   "cell_type": "code",
   "execution_count": 39,
   "id": "ed586c4d",
   "metadata": {},
   "outputs": [],
   "source": [
    "#dataframe is basically a data structure because inside this we can perform various operation"
   ]
  },
  {
   "cell_type": "code",
   "execution_count": 42,
   "id": "54dde043",
   "metadata": {},
   "outputs": [],
   "source": [
    "                          ####SELECTING COLUMNS AND INDEXING###########"
   ]
  },
  {
   "cell_type": "code",
   "execution_count": 21,
   "id": "f659af9d",
   "metadata": {},
   "outputs": [
    {
     "name": "stdout",
     "output_type": "stream",
     "text": [
      "+----+---+\n",
      "|name|age|\n",
      "+----+---+\n",
      "|  hh| 23|\n",
      "|  gj| 56|\n",
      "+----+---+\n",
      "\n"
     ]
    }
   ],
   "source": [
    "df_pysp.show()"
   ]
  },
  {
   "cell_type": "code",
   "execution_count": 22,
   "id": "ff2836f5",
   "metadata": {},
   "outputs": [],
   "source": [
    "#if i want to pickup name column"
   ]
  },
  {
   "cell_type": "code",
   "execution_count": 33,
   "id": "2d080d2f",
   "metadata": {},
   "outputs": [],
   "source": [
    "df_p=df_pysp.select('age')"
   ]
  },
  {
   "cell_type": "code",
   "execution_count": 31,
   "id": "b16b9df6",
   "metadata": {},
   "outputs": [
    {
     "name": "stdout",
     "output_type": "stream",
     "text": [
      "+---+\n",
      "|age|\n",
      "+---+\n",
      "| 23|\n",
      "| 56|\n",
      "+---+\n",
      "\n"
     ]
    }
   ],
   "source": [
    "df_p.show()"
   ]
  },
  {
   "cell_type": "code",
   "execution_count": 34,
   "id": "bcdcfab6",
   "metadata": {},
   "outputs": [],
   "source": [
    "## in case i want to select multipe columns"
   ]
  },
  {
   "cell_type": "code",
   "execution_count": 37,
   "id": "8a050c3c",
   "metadata": {},
   "outputs": [
    {
     "name": "stdout",
     "output_type": "stream",
     "text": [
      "+----+---+\n",
      "|name|age|\n",
      "+----+---+\n",
      "|  hh| 23|\n",
      "|  gj| 56|\n",
      "+----+---+\n",
      "\n"
     ]
    }
   ],
   "source": [
    "df_pysp.select(['name','age']).show()"
   ]
  },
  {
   "cell_type": "code",
   "execution_count": 38,
   "id": "3d62e2d7",
   "metadata": {},
   "outputs": [],
   "source": [
    "# how can we check datatypes"
   ]
  },
  {
   "cell_type": "code",
   "execution_count": 39,
   "id": "57e58ae6",
   "metadata": {},
   "outputs": [
    {
     "data": {
      "text/plain": [
       "[('name', 'string'), ('age', 'int')]"
      ]
     },
     "execution_count": 39,
     "metadata": {},
     "output_type": "execute_result"
    }
   ],
   "source": [
    "df_pysp.dtypes"
   ]
  },
  {
   "cell_type": "code",
   "execution_count": 41,
   "id": "197f9fa0",
   "metadata": {},
   "outputs": [
    {
     "name": "stdout",
     "output_type": "stream",
     "text": [
      "+-------+----+-----------------+\n",
      "|summary|name|              age|\n",
      "+-------+----+-----------------+\n",
      "|  count|   2|                2|\n",
      "|   mean|null|             39.5|\n",
      "| stddev|null|23.33452377915607|\n",
      "|    min|  gj|               23|\n",
      "|    max|  hh|               56|\n",
      "+-------+----+-----------------+\n",
      "\n"
     ]
    }
   ],
   "source": [
    "df_pysp.describe().show()"
   ]
  },
  {
   "cell_type": "code",
   "execution_count": 42,
   "id": "5863a1e7",
   "metadata": {},
   "outputs": [],
   "source": [
    "#adding and dropping"
   ]
  },
  {
   "cell_type": "code",
   "execution_count": 44,
   "id": "29575d21",
   "metadata": {},
   "outputs": [
    {
     "name": "stdout",
     "output_type": "stream",
     "text": [
      "+----+---+----------------+\n",
      "|name|age|age after 5 year|\n",
      "+----+---+----------------+\n",
      "|  hh| 23|              28|\n",
      "|  gj| 56|              61|\n",
      "+----+---+----------------+\n",
      "\n"
     ]
    }
   ],
   "source": [
    "# adding a new column\n",
    "df_pysp.withColumn('age after 5 year',df_pysp['age']+5).show()"
   ]
  },
  {
   "cell_type": "code",
   "execution_count": 45,
   "id": "b0fdc98d",
   "metadata": {},
   "outputs": [
    {
     "name": "stdout",
     "output_type": "stream",
     "text": [
      "+----+---+\n",
      "|name|age|\n",
      "+----+---+\n",
      "|  hh| 23|\n",
      "|  gj| 56|\n",
      "+----+---+\n",
      "\n"
     ]
    }
   ],
   "source": [
    "# drop column\n",
    "df_pysp.drop('age after 5 year').show()"
   ]
  },
  {
   "cell_type": "code",
   "execution_count": 46,
   "id": "84c01c41",
   "metadata": {},
   "outputs": [
    {
     "name": "stdout",
     "output_type": "stream",
     "text": [
      "+--------+---+\n",
      "|new name|age|\n",
      "+--------+---+\n",
      "|      hh| 23|\n",
      "|      gj| 56|\n",
      "+--------+---+\n",
      "\n"
     ]
    }
   ],
   "source": [
    "## rename \n",
    "df_pysp.withColumnRenamed('name','new name').show()"
   ]
  },
  {
   "cell_type": "code",
   "execution_count": null,
   "id": "3d699457",
   "metadata": {},
   "outputs": [],
   "source": []
  }
 ],
 "metadata": {
  "kernelspec": {
   "display_name": "Python 3 (ipykernel)",
   "language": "python",
   "name": "python3"
  },
  "language_info": {
   "codemirror_mode": {
    "name": "ipython",
    "version": 3
   },
   "file_extension": ".py",
   "mimetype": "text/x-python",
   "name": "python",
   "nbconvert_exporter": "python",
   "pygments_lexer": "ipython3",
   "version": "3.10.6"
  }
 },
 "nbformat": 4,
 "nbformat_minor": 5
}
